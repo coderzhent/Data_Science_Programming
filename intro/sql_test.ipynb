{
 "cells": [
  {
   "cell_type": "markdown",
   "id": "0d8db745",
   "metadata": {},
   "source": [
    "# A Quick SQLite Example"
   ]
  },
  {
   "cell_type": "code",
   "execution_count": 1,
   "id": "e6c84536",
   "metadata": {},
   "outputs": [],
   "source": [
    "import pandas as pd\n",
    "import numpy as np\n",
    "import sqlite3"
   ]
  },
  {
   "cell_type": "code",
   "execution_count": 2,
   "id": "16d4d984",
   "metadata": {},
   "outputs": [
    {
     "data": {
      "application/vnd.microsoft.datawrangler.viewer.v0+json": {
       "columns": [
        {
         "name": "index",
         "rawType": "int64",
         "type": "integer"
        },
        {
         "name": "ID",
         "rawType": "int64",
         "type": "integer"
        },
        {
         "name": "playerID",
         "rawType": "object",
         "type": "string"
        },
        {
         "name": "yearID",
         "rawType": "int64",
         "type": "integer"
        },
        {
         "name": "gameNum",
         "rawType": "int64",
         "type": "integer"
        },
        {
         "name": "gameID",
         "rawType": "object",
         "type": "string"
        },
        {
         "name": "teamID",
         "rawType": "object",
         "type": "string"
        },
        {
         "name": "team_ID",
         "rawType": "int64",
         "type": "integer"
        },
        {
         "name": "lgID",
         "rawType": "object",
         "type": "string"
        },
        {
         "name": "GP",
         "rawType": "int64",
         "type": "integer"
        },
        {
         "name": "startingPos",
         "rawType": "int64",
         "type": "integer"
        }
       ],
       "conversionMethod": "pd.DataFrame",
       "ref": "45915bcd-b00f-42eb-a5fd-450fc230fd6c",
       "rows": [
        [
         "0",
         "1",
         "gomezle01",
         "1933",
         "0",
         "ALS193307060",
         "NYA",
         "921",
         "AL",
         "1",
         "1"
        ],
        [
         "1",
         "2",
         "ferreri01",
         "1933",
         "0",
         "ALS193307060",
         "BOS",
         "912",
         "AL",
         "1",
         "2"
        ],
        [
         "2",
         "3",
         "gehrilo01",
         "1933",
         "0",
         "ALS193307060",
         "NYA",
         "921",
         "AL",
         "1",
         "3"
        ],
        [
         "3",
         "4",
         "gehrich01",
         "1933",
         "0",
         "ALS193307060",
         "DET",
         "919",
         "AL",
         "1",
         "4"
        ],
        [
         "4",
         "5",
         "dykesji01",
         "1933",
         "0",
         "ALS193307060",
         "CHA",
         "915",
         "AL",
         "1",
         "5"
        ]
       ],
       "shape": {
        "columns": 10,
        "rows": 5
       }
      },
      "text/html": [
       "<div>\n",
       "<style scoped>\n",
       "    .dataframe tbody tr th:only-of-type {\n",
       "        vertical-align: middle;\n",
       "    }\n",
       "\n",
       "    .dataframe tbody tr th {\n",
       "        vertical-align: top;\n",
       "    }\n",
       "\n",
       "    .dataframe thead th {\n",
       "        text-align: right;\n",
       "    }\n",
       "</style>\n",
       "<table border=\"1\" class=\"dataframe\">\n",
       "  <thead>\n",
       "    <tr style=\"text-align: right;\">\n",
       "      <th></th>\n",
       "      <th>ID</th>\n",
       "      <th>playerID</th>\n",
       "      <th>yearID</th>\n",
       "      <th>gameNum</th>\n",
       "      <th>gameID</th>\n",
       "      <th>teamID</th>\n",
       "      <th>team_ID</th>\n",
       "      <th>lgID</th>\n",
       "      <th>GP</th>\n",
       "      <th>startingPos</th>\n",
       "    </tr>\n",
       "  </thead>\n",
       "  <tbody>\n",
       "    <tr>\n",
       "      <th>0</th>\n",
       "      <td>1</td>\n",
       "      <td>gomezle01</td>\n",
       "      <td>1933</td>\n",
       "      <td>0</td>\n",
       "      <td>ALS193307060</td>\n",
       "      <td>NYA</td>\n",
       "      <td>921</td>\n",
       "      <td>AL</td>\n",
       "      <td>1</td>\n",
       "      <td>1</td>\n",
       "    </tr>\n",
       "    <tr>\n",
       "      <th>1</th>\n",
       "      <td>2</td>\n",
       "      <td>ferreri01</td>\n",
       "      <td>1933</td>\n",
       "      <td>0</td>\n",
       "      <td>ALS193307060</td>\n",
       "      <td>BOS</td>\n",
       "      <td>912</td>\n",
       "      <td>AL</td>\n",
       "      <td>1</td>\n",
       "      <td>2</td>\n",
       "    </tr>\n",
       "    <tr>\n",
       "      <th>2</th>\n",
       "      <td>3</td>\n",
       "      <td>gehrilo01</td>\n",
       "      <td>1933</td>\n",
       "      <td>0</td>\n",
       "      <td>ALS193307060</td>\n",
       "      <td>NYA</td>\n",
       "      <td>921</td>\n",
       "      <td>AL</td>\n",
       "      <td>1</td>\n",
       "      <td>3</td>\n",
       "    </tr>\n",
       "    <tr>\n",
       "      <th>3</th>\n",
       "      <td>4</td>\n",
       "      <td>gehrich01</td>\n",
       "      <td>1933</td>\n",
       "      <td>0</td>\n",
       "      <td>ALS193307060</td>\n",
       "      <td>DET</td>\n",
       "      <td>919</td>\n",
       "      <td>AL</td>\n",
       "      <td>1</td>\n",
       "      <td>4</td>\n",
       "    </tr>\n",
       "    <tr>\n",
       "      <th>4</th>\n",
       "      <td>5</td>\n",
       "      <td>dykesji01</td>\n",
       "      <td>1933</td>\n",
       "      <td>0</td>\n",
       "      <td>ALS193307060</td>\n",
       "      <td>CHA</td>\n",
       "      <td>915</td>\n",
       "      <td>AL</td>\n",
       "      <td>1</td>\n",
       "      <td>5</td>\n",
       "    </tr>\n",
       "  </tbody>\n",
       "</table>\n",
       "</div>"
      ],
      "text/plain": [
       "   ID   playerID  yearID  gameNum        gameID teamID  team_ID lgID  GP  \\\n",
       "0   1  gomezle01    1933        0  ALS193307060    NYA      921   AL   1   \n",
       "1   2  ferreri01    1933        0  ALS193307060    BOS      912   AL   1   \n",
       "2   3  gehrilo01    1933        0  ALS193307060    NYA      921   AL   1   \n",
       "3   4  gehrich01    1933        0  ALS193307060    DET      919   AL   1   \n",
       "4   5  dykesji01    1933        0  ALS193307060    CHA      915   AL   1   \n",
       "\n",
       "   startingPos  \n",
       "0            1  \n",
       "1            2  \n",
       "2            3  \n",
       "3            4  \n",
       "4            5  "
      ]
     },
     "execution_count": 2,
     "metadata": {},
     "output_type": "execute_result"
    }
   ],
   "source": [
    "sqlite_file = 'lahmansbaseballdb.sqlite'\n",
    "con = sqlite3.connect(sqlite_file)\n",
    "\n",
    "q = 'SELECT * FROM allstarfull LIMIT 5'\n",
    "results = pd.read_sql_query(q,con)\n",
    "\n",
    "results"
   ]
  },
  {
   "cell_type": "markdown",
   "id": "68616c9f",
   "metadata": {},
   "source": [
    "# List Available Tables"
   ]
  },
  {
   "cell_type": "code",
   "execution_count": 3,
   "id": "00a33f7b",
   "metadata": {},
   "outputs": [
    {
     "data": {
      "application/vnd.microsoft.datawrangler.viewer.v0+json": {
       "columns": [
        {
         "name": "index",
         "rawType": "int64",
         "type": "integer"
        },
        {
         "name": "name",
         "rawType": "object",
         "type": "string"
        }
       ],
       "conversionMethod": "pd.DataFrame",
       "ref": "15c88bef-1c46-41ab-ba5b-65d94c8b6eb5",
       "rows": [
        [
         "0",
         "allstarfull"
        ],
        [
         "1",
         "appearances"
        ],
        [
         "2",
         "awardsmanagers"
        ],
        [
         "3",
         "awardsplayers"
        ],
        [
         "4",
         "awardssharemanagers"
        ],
        [
         "5",
         "awardsshareplayers"
        ],
        [
         "6",
         "batting"
        ],
        [
         "7",
         "battingpost"
        ],
        [
         "8",
         "collegeplaying"
        ],
        [
         "9",
         "divisions"
        ],
        [
         "10",
         "fielding"
        ],
        [
         "11",
         "fieldingof"
        ],
        [
         "12",
         "fieldingofsplit"
        ],
        [
         "13",
         "fieldingpost"
        ],
        [
         "14",
         "halloffame"
        ],
        [
         "15",
         "homegames"
        ],
        [
         "16",
         "leagues"
        ],
        [
         "17",
         "managers"
        ],
        [
         "18",
         "managershalf"
        ],
        [
         "19",
         "parks"
        ],
        [
         "20",
         "people"
        ],
        [
         "21",
         "pitching"
        ],
        [
         "22",
         "pitchingpost"
        ],
        [
         "23",
         "salaries"
        ],
        [
         "24",
         "schools"
        ],
        [
         "25",
         "seriespost"
        ],
        [
         "26",
         "teams"
        ],
        [
         "27",
         "teamsfranchises"
        ],
        [
         "28",
         "teamshalf"
        ]
       ],
       "shape": {
        "columns": 1,
        "rows": 29
       }
      },
      "text/html": [
       "<div>\n",
       "<style scoped>\n",
       "    .dataframe tbody tr th:only-of-type {\n",
       "        vertical-align: middle;\n",
       "    }\n",
       "\n",
       "    .dataframe tbody tr th {\n",
       "        vertical-align: top;\n",
       "    }\n",
       "\n",
       "    .dataframe thead th {\n",
       "        text-align: right;\n",
       "    }\n",
       "</style>\n",
       "<table border=\"1\" class=\"dataframe\">\n",
       "  <thead>\n",
       "    <tr style=\"text-align: right;\">\n",
       "      <th></th>\n",
       "      <th>name</th>\n",
       "    </tr>\n",
       "  </thead>\n",
       "  <tbody>\n",
       "    <tr>\n",
       "      <th>0</th>\n",
       "      <td>allstarfull</td>\n",
       "    </tr>\n",
       "    <tr>\n",
       "      <th>1</th>\n",
       "      <td>appearances</td>\n",
       "    </tr>\n",
       "    <tr>\n",
       "      <th>2</th>\n",
       "      <td>awardsmanagers</td>\n",
       "    </tr>\n",
       "    <tr>\n",
       "      <th>3</th>\n",
       "      <td>awardsplayers</td>\n",
       "    </tr>\n",
       "    <tr>\n",
       "      <th>4</th>\n",
       "      <td>awardssharemanagers</td>\n",
       "    </tr>\n",
       "    <tr>\n",
       "      <th>5</th>\n",
       "      <td>awardsshareplayers</td>\n",
       "    </tr>\n",
       "    <tr>\n",
       "      <th>6</th>\n",
       "      <td>batting</td>\n",
       "    </tr>\n",
       "    <tr>\n",
       "      <th>7</th>\n",
       "      <td>battingpost</td>\n",
       "    </tr>\n",
       "    <tr>\n",
       "      <th>8</th>\n",
       "      <td>collegeplaying</td>\n",
       "    </tr>\n",
       "    <tr>\n",
       "      <th>9</th>\n",
       "      <td>divisions</td>\n",
       "    </tr>\n",
       "    <tr>\n",
       "      <th>10</th>\n",
       "      <td>fielding</td>\n",
       "    </tr>\n",
       "    <tr>\n",
       "      <th>11</th>\n",
       "      <td>fieldingof</td>\n",
       "    </tr>\n",
       "    <tr>\n",
       "      <th>12</th>\n",
       "      <td>fieldingofsplit</td>\n",
       "    </tr>\n",
       "    <tr>\n",
       "      <th>13</th>\n",
       "      <td>fieldingpost</td>\n",
       "    </tr>\n",
       "    <tr>\n",
       "      <th>14</th>\n",
       "      <td>halloffame</td>\n",
       "    </tr>\n",
       "    <tr>\n",
       "      <th>15</th>\n",
       "      <td>homegames</td>\n",
       "    </tr>\n",
       "    <tr>\n",
       "      <th>16</th>\n",
       "      <td>leagues</td>\n",
       "    </tr>\n",
       "    <tr>\n",
       "      <th>17</th>\n",
       "      <td>managers</td>\n",
       "    </tr>\n",
       "    <tr>\n",
       "      <th>18</th>\n",
       "      <td>managershalf</td>\n",
       "    </tr>\n",
       "    <tr>\n",
       "      <th>19</th>\n",
       "      <td>parks</td>\n",
       "    </tr>\n",
       "    <tr>\n",
       "      <th>20</th>\n",
       "      <td>people</td>\n",
       "    </tr>\n",
       "    <tr>\n",
       "      <th>21</th>\n",
       "      <td>pitching</td>\n",
       "    </tr>\n",
       "    <tr>\n",
       "      <th>22</th>\n",
       "      <td>pitchingpost</td>\n",
       "    </tr>\n",
       "    <tr>\n",
       "      <th>23</th>\n",
       "      <td>salaries</td>\n",
       "    </tr>\n",
       "    <tr>\n",
       "      <th>24</th>\n",
       "      <td>schools</td>\n",
       "    </tr>\n",
       "    <tr>\n",
       "      <th>25</th>\n",
       "      <td>seriespost</td>\n",
       "    </tr>\n",
       "    <tr>\n",
       "      <th>26</th>\n",
       "      <td>teams</td>\n",
       "    </tr>\n",
       "    <tr>\n",
       "      <th>27</th>\n",
       "      <td>teamsfranchises</td>\n",
       "    </tr>\n",
       "    <tr>\n",
       "      <th>28</th>\n",
       "      <td>teamshalf</td>\n",
       "    </tr>\n",
       "  </tbody>\n",
       "</table>\n",
       "</div>"
      ],
      "text/plain": [
       "                   name\n",
       "0           allstarfull\n",
       "1           appearances\n",
       "2        awardsmanagers\n",
       "3         awardsplayers\n",
       "4   awardssharemanagers\n",
       "5    awardsshareplayers\n",
       "6               batting\n",
       "7           battingpost\n",
       "8        collegeplaying\n",
       "9             divisions\n",
       "10             fielding\n",
       "11           fieldingof\n",
       "12      fieldingofsplit\n",
       "13         fieldingpost\n",
       "14           halloffame\n",
       "15            homegames\n",
       "16              leagues\n",
       "17             managers\n",
       "18         managershalf\n",
       "19                parks\n",
       "20               people\n",
       "21             pitching\n",
       "22         pitchingpost\n",
       "23             salaries\n",
       "24              schools\n",
       "25           seriespost\n",
       "26                teams\n",
       "27      teamsfranchises\n",
       "28            teamshalf"
      ]
     },
     "execution_count": 3,
     "metadata": {},
     "output_type": "execute_result"
    }
   ],
   "source": [
    "q = '''\n",
    "SELECT *\n",
    "FROM sqlite_master\n",
    "WHERE type='table'\n",
    "'''\n",
    "\n",
    "table = pd.read_sql_query(q,con)\n",
    "table.filter(['name'])"
   ]
  }
 ],
 "metadata": {
  "kernelspec": {
   "display_name": ".venv",
   "language": "python",
   "name": "python3"
  },
  "language_info": {
   "codemirror_mode": {
    "name": "ipython",
    "version": 3
   },
   "file_extension": ".py",
   "mimetype": "text/x-python",
   "name": "python",
   "nbconvert_exporter": "python",
   "pygments_lexer": "ipython3",
   "version": "3.12.8"
  }
 },
 "nbformat": 4,
 "nbformat_minor": 5
}
